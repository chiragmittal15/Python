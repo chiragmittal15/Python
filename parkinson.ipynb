{
  "nbformat": 4,
  "nbformat_minor": 0,
  "metadata": {
    "colab": {
      "name": "Copy of Untitled0.ipynb",
      "provenance": [],
      "collapsed_sections": [],
      "include_colab_link": true
    },
    "kernelspec": {
      "name": "python3",
      "display_name": "Python 3"
    },
    "language_info": {
      "name": "python"
    }
  },
  "cells": [
    {
      "cell_type": "markdown",
      "metadata": {
        "id": "view-in-github",
        "colab_type": "text"
      },
      "source": [
        "<a href=\"https://colab.research.google.com/github/chiragmittal15/Python/blob/master/parkinson.ipynb\" target=\"_parent\"><img src=\"https://colab.research.google.com/assets/colab-badge.svg\" alt=\"Open In Colab\"/></a>"
      ]
    },
    {
      "cell_type": "code",
      "metadata": {
        "id": "zyC0eAzHh5JB"
      },
      "source": [
        "#Import Libraries \n",
        "import numpy as np\n",
        "import matplotlib.pyplot as plt  \n",
        "from sklearn import preprocessing\n",
        "from sklearn.preprocessing import StandardScaler\n",
        "from sklearn.preprocessing import MinMaxScaler\n",
        "import pandas as pd\n",
        "import scipy\n",
        "from sklearn.impute import SimpleImputer\n",
        "from sklearn.metrics import confusion_matrix\n",
        "from sklearn.neighbors import KNeighborsClassifier\n",
        "from sklearn.naive_bayes import GaussianNB\n",
        "from sklearn.kernel_approximation import RBFSampler\n",
        "from sklearn.linear_model import SGDClassifier\n",
        "from xgboost import XGBClassifier\n",
        "from sklearn import svm\n",
        "from sklearn import tree\n",
        "from sklearn.model_selection import train_test_split\n",
        "import seaborn as sns\n",
        "from sklearn.metrics import accuracy_score\n",
        "from sklearn.ensemble import RandomForestClassifier\n",
        "sns.set()"
      ],
      "execution_count": 114,
      "outputs": []
    },
    {
      "cell_type": "code",
      "metadata": {
        "id": "NEyatc-riOB7"
      },
      "source": [
        "url=\"/content/pd_speech_features.csv\"\n",
        "data_set=pd.read_csv(url)\n",
        "x= data_set.iloc[:,1:-1].values  \n",
        "y= data_set.iloc[:,754].values  \n"
      ],
      "execution_count": 115,
      "outputs": []
    },
    {
      "cell_type": "markdown",
      "metadata": {
        "id": "hebK6zKV-NSD"
      },
      "source": [
        "**Describe the data_set**\n"
      ]
    },
    {
      "cell_type": "code",
      "metadata": {
        "colab": {
          "base_uri": "https://localhost:8080/"
        },
        "id": "hnYOksyW-TSV",
        "outputId": "edf955de-9b6d-4f27-a137-e268699f55ee"
      },
      "source": [
        "print(data_set.describe()) # stats of data_set\n",
        "# sns.heatmap(data_set.corr()) #heat map of all the features"
      ],
      "execution_count": 116,
      "outputs": [
        {
          "output_type": "stream",
          "name": "stdout",
          "text": [
            "               id      gender  ...  tqwt_kurtosisValue_dec_36       class\n",
            "count  756.000000  756.000000  ...                 756.000000  756.000000\n",
            "mean   125.500000    0.515873  ...                  31.481110    0.746032\n",
            "std     72.793721    0.500079  ...                  34.230991    0.435568\n",
            "min      0.000000    0.000000  ...                   2.364000    0.000000\n",
            "25%     62.750000    0.000000  ...                   3.948750    0.000000\n",
            "50%    125.500000    1.000000  ...                  10.637250    1.000000\n",
            "75%    188.250000    1.000000  ...                  61.125325    1.000000\n",
            "max    251.000000    1.000000  ...                 156.423700    1.000000\n",
            "\n",
            "[8 rows x 755 columns]\n"
          ]
        }
      ]
    },
    {
      "cell_type": "markdown",
      "metadata": {
        "id": "qdDKFnQB-stc"
      },
      "source": [
        "**Plotting the data**"
      ]
    },
    {
      "cell_type": "code",
      "metadata": {
        "colab": {
          "base_uri": "https://localhost:8080/",
          "height": 357
        },
        "id": "LqtuVLvy-wSY",
        "outputId": "546b9890-f57a-47b6-a5cd-66c911639c43"
      },
      "source": [
        "sns.countplot(data_set['gender']) # 1:Male 2:Female   ## gender plot"
      ],
      "execution_count": 117,
      "outputs": [
        {
          "output_type": "stream",
          "name": "stderr",
          "text": [
            "/usr/local/lib/python3.7/dist-packages/seaborn/_decorators.py:43: FutureWarning: Pass the following variable as a keyword arg: x. From version 0.12, the only valid positional argument will be `data`, and passing other arguments without an explicit keyword will result in an error or misinterpretation.\n",
            "  FutureWarning\n"
          ]
        },
        {
          "output_type": "execute_result",
          "data": {
            "text/plain": [
              "<matplotlib.axes._subplots.AxesSubplot at 0x7f038775cad0>"
            ]
          },
          "metadata": {},
          "execution_count": 117
        },
        {
          "output_type": "display_data",
          "data": {
            "image/png": "[encoded data removed]",
            "text/plain": [
              "<Figure size 432x288 with 1 Axes>"
            ]
          },
          "metadata": {}
        }
      ]
    },
    {
      "cell_type": "code",
      "metadata": {
        "colab": {
          "base_uri": "https://localhost:8080/",
          "height": 302
        },
        "id": "onCcNSQ8AWnZ",
        "outputId": "963aeac2-afc5-4f0a-b1a3-5d9e9543699b"
      },
      "source": [
        "sns.histplot(data_set['numPulses'])"
      ],
      "execution_count": 118,
      "outputs": [
        {
          "output_type": "execute_result",
          "data": {
            "text/plain": [
              "<matplotlib.axes._subplots.AxesSubplot at 0x7f037bf6af90>"
            ]
          },
          "metadata": {},
          "execution_count": 118
        },
        {
          "output_type": "display_data",
          "data": {
            "image/png": "[encoded data removed]",
            "text/plain": [
              "<Figure size 432x288 with 1 Axes>"
            ]
          },
          "metadata": {}
        }
      ]
    },
    {
      "cell_type": "code",
      "metadata": {
        "colab": {
          "base_uri": "https://localhost:8080/",
          "height": 302
        },
        "id": "2r78JLybAbEc",
        "outputId": "e192d0a6-2108-42cb-bbaa-05fdded18155"
      },
      "source": [
        "sns.histplot(data_set['meanIntensity'])"
      ],
      "execution_count": 119,
      "outputs": [
        {
          "output_type": "execute_result",
          "data": {
            "text/plain": [
              "<matplotlib.axes._subplots.AxesSubplot at 0x7f037c197610>"
            ]
          },
          "metadata": {},
          "execution_count": 119
        },
        {
          "output_type": "display_data",
          "data": {
            "image/png": "[encoded data removed]",
            "text/plain": [
              "<Figure size 432x288 with 1 Axes>"
            ]
          },
          "metadata": {}
        }
      ]
    },
    {
      "cell_type": "markdown",
      "metadata": {
        "id": "n06R6giGu5D-"
      },
      "source": [
        "Scaling the data between **0-1**\n",
        "\n",
        "\n"
      ]
    },
    {
      "cell_type": "code",
      "metadata": {
        "colab": {
          "base_uri": "https://localhost:8080/"
        },
        "id": "63S9-K6QqaRl",
        "outputId": "1cd6c040-c564-4bfa-c967-7a50fb27dd82"
      },
      "source": [
        "scaler = MinMaxScaler()\n",
        "scaled = scaler.fit_transform(x)\n",
        "print(scaled)"
      ],
      "execution_count": 120,
      "outputs": [
        {
          "output_type": "stream",
          "name": "stdout",
          "text": [
            "[[1.         0.93627823 0.56531022 ... 0.01261106 0.01878989 0.1075979 ]\n",
            " [1.         0.83743386 0.48945462 ... 0.07752521 0.07892294 0.27790525]\n",
            " [1.         0.9343847  0.42873779 ... 0.01759397 0.02147211 0.01559525]\n",
            " ...\n",
            " [0.         0.97255542 0.58177525 ... 0.02786571 0.02515993 0.01738547]\n",
            " [0.         0.9193635  0.66442389 ... 0.01360698 0.01578207 0.00875699]\n",
            " [0.         0.89075278 0.71556576 ... 0.03574493 0.01197732 0.00511944]]\n"
          ]
        }
      ]
    },
    {
      "cell_type": "markdown",
      "metadata": {
        "id": "vGCmETtzqHL2"
      },
      "source": [
        "Handling missing value by calculating the **mean**"
      ]
    },
    {
      "cell_type": "code",
      "metadata": {
        "colab": {
          "base_uri": "https://localhost:8080/"
        },
        "id": "HYH3Q6jHpm8B",
        "outputId": "162d6a0f-f764-462d-af21-20b4a09f4c7a"
      },
      "source": [
        "imputer = SimpleImputer(missing_values=np.nan, strategy='mean')\n",
        "imputer=imputer.fit(x[:,:])\n",
        "x[:,:]=imputer.transform(x[:,:])\n",
        "print(x)"
      ],
      "execution_count": 121,
      "outputs": [
        {
          "output_type": "stream",
          "name": "stdout",
          "text": [
            "[[ 1.       0.85247  0.71826 ...  2.6202   3.0004  18.9405 ]\n",
            " [ 1.       0.76686  0.69481 ...  6.5245   6.3431  45.178  ]\n",
            " [ 1.       0.85083  0.67604 ...  2.9199   3.1495   4.7666 ]\n",
            " ...\n",
            " [ 0.       0.88389  0.72335 ...  3.5377   3.3545   5.0424 ]\n",
            " [ 0.       0.83782  0.7489  ...  2.6801   2.8332   3.7131 ]\n",
            " [ 0.       0.81304  0.76471 ...  4.0116   2.6217   3.1527 ]]\n"
          ]
        }
      ]
    },
    {
      "cell_type": "markdown",
      "metadata": {
        "id": "JbuW3q4pFSVR"
      },
      "source": [
        "***K NeighborsClassifier***"
      ]
    },
    {
      "cell_type": "code",
      "metadata": {
        "id": "ADoc_Z8iwRzr",
        "colab": {
          "base_uri": "https://localhost:8080/"
        },
        "outputId": "2355da91-797c-4ee5-dd29-d330c1ba9d72"
      },
      "source": [
        "classifier= KNeighborsClassifier(n_neighbors=5, metric='minkowski', p=2 )  \n",
        "classifier.fit(x_train, y_train)  \n",
        "y_pred= classifier.predict(x_test)  \n",
        "cm= confusion_matrix(y_test, y_pred)  \n",
        "print(cm)"
      ],
      "execution_count": 122,
      "outputs": [
        {
          "output_type": "stream",
          "name": "stdout",
          "text": [
            "[[ 17  28]\n",
            " [ 18 126]]\n"
          ]
        }
      ]
    },
    {
      "cell_type": "code",
      "metadata": {
        "colab": {
          "base_uri": "https://localhost:8080/"
        },
        "id": "h2sAAghMFb50",
        "outputId": "cb99e3ce-0fb4-4abd-b365-0dd1f43459bb"
      },
      "source": [
        "accuracy_score(y_test, y_pred)  ## accuracy "
      ],
      "execution_count": 123,
      "outputs": [
        {
          "output_type": "execute_result",
          "data": {
            "text/plain": [
              "0.7566137566137566"
            ]
          },
          "metadata": {},
          "execution_count": 123
        }
      ]
    },
    {
      "cell_type": "markdown",
      "metadata": {
        "id": "kHWs5LY1F9VJ"
      },
      "source": [
        "***Random Forest Algo***"
      ]
    },
    {
      "cell_type": "code",
      "metadata": {
        "colab": {
          "base_uri": "https://localhost:8080/"
        },
        "id": "jE_IMGz4GCQI",
        "outputId": "7140e603-3b6e-461c-bd14-4ec16e985a14"
      },
      "source": [
        "clf = RandomForestClassifier(n_estimators = 100)\n",
        "clf.fit(x_train, y_train)\n",
        "y_pred= clf.predict(x_test) \n",
        "cm= confusion_matrix(y_test, y_pred)  \n",
        "print(cm)"
      ],
      "execution_count": 124,
      "outputs": [
        {
          "output_type": "stream",
          "name": "stdout",
          "text": [
            "[[ 23  22]\n",
            " [  4 140]]\n"
          ]
        }
      ]
    },
    {
      "cell_type": "code",
      "metadata": {
        "colab": {
          "base_uri": "https://localhost:8080/"
        },
        "id": "9yorl1qgG5yM",
        "outputId": "66b42c68-b35b-46e1-e94b-fd26a25a0f15"
      },
      "source": [
        "accuracy_score(y_test, y_pred)*100  ## accuracy "
      ],
      "execution_count": 125,
      "outputs": [
        {
          "output_type": "execute_result",
          "data": {
            "text/plain": [
              "86.24338624338624"
            ]
          },
          "metadata": {},
          "execution_count": 125
        }
      ]
    },
    {
      "cell_type": "markdown",
      "source": [
        "***SVM***"
      ],
      "metadata": {
        "id": "BWaHPQyj4qre"
      }
    },
    {
      "cell_type": "code",
      "source": [
        "clf = svm.SVC()\n",
        "clf.fit(x_train, y_train)\n",
        "y_pred= clf.predict(x_test)  \n",
        "cm= confusion_matrix(y_test, y_pred)  \n",
        "print(cm)"
      ],
      "metadata": {
        "id": "8ZJWeBoM1LGm",
        "outputId": "ae47aa37-cd2c-427a-a401-d90331b51a3e",
        "colab": {
          "base_uri": "https://localhost:8080/"
        }
      },
      "execution_count": 126,
      "outputs": [
        {
          "output_type": "stream",
          "name": "stdout",
          "text": [
            "[[  7  38]\n",
            " [  5 139]]\n"
          ]
        }
      ]
    },
    {
      "cell_type": "code",
      "source": [
        "accuracy_score(y_test, y_pred)  ## accuracy "
      ],
      "metadata": {
        "id": "2zxJmunb3NDA",
        "outputId": "c66a4ad9-fa0f-45ef-a408-caf577c0c823",
        "colab": {
          "base_uri": "https://localhost:8080/"
        }
      },
      "execution_count": 127,
      "outputs": [
        {
          "output_type": "execute_result",
          "data": {
            "text/plain": [
              "0.7724867724867724"
            ]
          },
          "metadata": {},
          "execution_count": 127
        }
      ]
    },
    {
      "cell_type": "markdown",
      "source": [
        "***Decision Tree***"
      ],
      "metadata": {
        "id": "ApAljdGs8bXU"
      }
    },
    {
      "cell_type": "code",
      "source": [
        "clf = tree.DecisionTreeClassifier()\n",
        "clf.fit(x_train, y_train)\n",
        "y_pred= clf.predict(x_test)  \n",
        "cm= confusion_matrix(y_test, y_pred)  \n",
        "print(cm)"
      ],
      "metadata": {
        "id": "fAVv0Fh15tv4",
        "outputId": "9c852cdb-d782-4d60-bba5-81031d940fc8",
        "colab": {
          "base_uri": "https://localhost:8080/"
        }
      },
      "execution_count": 128,
      "outputs": [
        {
          "output_type": "stream",
          "name": "stdout",
          "text": [
            "[[ 28  17]\n",
            " [ 21 123]]\n"
          ]
        }
      ]
    },
    {
      "cell_type": "code",
      "source": [
        "accuracy_score(y_test, y_pred)  ## accuracy "
      ],
      "metadata": {
        "id": "OtSM09V96BHw",
        "outputId": "415590a6-ade5-4ffe-8304-ea9ae4e00fca",
        "colab": {
          "base_uri": "https://localhost:8080/"
        }
      },
      "execution_count": 129,
      "outputs": [
        {
          "output_type": "execute_result",
          "data": {
            "text/plain": [
              "0.798941798941799"
            ]
          },
          "metadata": {},
          "execution_count": 129
        }
      ]
    },
    {
      "cell_type": "markdown",
      "source": [
        "***Naive Bayes***"
      ],
      "metadata": {
        "id": "66VCnQTw8g41"
      }
    },
    {
      "cell_type": "code",
      "source": [
        "gnb = GaussianNB()\n",
        "y_pred = gnb.fit(x_train, y_train).predict(x_test)\n",
        "cm= confusion_matrix(y_test, y_pred)  \n",
        "print(cm)"
      ],
      "metadata": {
        "id": "y4O7b4sI72ER",
        "outputId": "1c61b782-e8f0-4772-baa3-803f7ce802b3",
        "colab": {
          "base_uri": "https://localhost:8080/"
        }
      },
      "execution_count": 130,
      "outputs": [
        {
          "output_type": "stream",
          "name": "stdout",
          "text": [
            "[[  8  37]\n",
            " [ 10 134]]\n"
          ]
        }
      ]
    },
    {
      "cell_type": "code",
      "source": [
        "accuracy_score(y_test, y_pred)  ## accuracy "
      ],
      "metadata": {
        "id": "wp4O76Y88Sea",
        "outputId": "e8ad552a-fc85-42c1-85e7-4a17afb01a02",
        "colab": {
          "base_uri": "https://localhost:8080/"
        }
      },
      "execution_count": 131,
      "outputs": [
        {
          "output_type": "execute_result",
          "data": {
            "text/plain": [
              "0.7513227513227513"
            ]
          },
          "metadata": {},
          "execution_count": 131
        }
      ]
    },
    {
      "cell_type": "markdown",
      "source": [
        "***Stochastic Gradient Descent***"
      ],
      "metadata": {
        "id": "dFC51CWG9BU6"
      }
    },
    {
      "cell_type": "code",
      "source": [
        "clf = SGDClassifier(loss=\"hinge\", penalty=\"l2\", max_iter=50)\n",
        "clf.fit(x_train, y_train)\n",
        "y_pred= clf.predict(x_test)  \n",
        "cm= confusion_matrix(y_test, y_pred)  \n",
        "print(cm)"
      ],
      "metadata": {
        "id": "kgoNZHO19Gus",
        "outputId": "ed4383b4-3ed8-410f-ed44-84c14935d9ff",
        "colab": {
          "base_uri": "https://localhost:8080/"
        }
      },
      "execution_count": 132,
      "outputs": [
        {
          "output_type": "stream",
          "name": "stdout",
          "text": [
            "[[18 27]\n",
            " [96 48]]\n"
          ]
        }
      ]
    },
    {
      "cell_type": "code",
      "source": [
        "accuracy_score(y_test, y_pred)  ## accuracy "
      ],
      "metadata": {
        "id": "Q_EpreuK9cyE",
        "outputId": "205d8776-d075-44af-8a55-7b06603fa3bb",
        "colab": {
          "base_uri": "https://localhost:8080/"
        }
      },
      "execution_count": 133,
      "outputs": [
        {
          "output_type": "execute_result",
          "data": {
            "text/plain": [
              "0.3492063492063492"
            ]
          },
          "metadata": {},
          "execution_count": 133
        }
      ]
    },
    {
      "cell_type": "markdown",
      "source": [
        "***XGBOOST***"
      ],
      "metadata": {
        "id": "hfbPf5k5cB8K"
      }
    },
    {
      "cell_type": "code",
      "source": [
        "model=XGBClassifier(eval_metric='mlogloss')\n",
        "\n",
        "model.fit(x_train,y_train)\n",
        "y_pred=model.predict(x_test)\n",
        "\n",
        "print(accuracy_score(y_test, y_pred)*100)\n",
        "cm= confusion_matrix(y_test, y_pred)  \n",
        "print(cm)"
      ],
      "metadata": {
        "colab": {
          "base_uri": "https://localhost:8080/"
        },
        "id": "Uy-hMF7paOmL",
        "outputId": "e59d5d1e-a82f-4936-ce2f-1bde29717d61"
      },
      "execution_count": 135,
      "outputs": [
        {
          "output_type": "stream",
          "name": "stdout",
          "text": [
            "85.71428571428571\n",
            "[[ 26  19]\n",
            " [  8 136]]\n"
          ]
        }
      ]
    }
  ]
}